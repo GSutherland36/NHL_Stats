{
 "cells": [
  {
   "cell_type": "markdown",
   "id": "5bf93537",
   "metadata": {},
   "source": [
    "The 2020-2021 NHL season was played mostly without fans in attendance. As a viewer, I couldn't help but notice some changes in the way the game was played. The following code is an analysis of NHL records to determine if fan attendace helps the home team win."
   ]
  },
  {
   "cell_type": "code",
   "execution_count": 1,
   "id": "6ba75f30",
   "metadata": {},
   "outputs": [],
   "source": [
    "import pandas as pd\n",
    "import requests\n",
    "import json\n",
    "import numpy\n",
    "import scipy.stats as stats"
   ]
  },
  {
   "cell_type": "code",
   "execution_count": 4,
   "id": "e3bf30a1",
   "metadata": {},
   "outputs": [],
   "source": [
    "statSchedule1516 = pd.read_csv('./gameDataBySeason/NHL20152016.csv')\n",
    "statSchedule1617 = pd.read_csv('./gameDataBySeason/NHL20162017.csv')\n",
    "statSchedule1718 = pd.read_csv('./gameDataBySeason/NHL20172018.csv')\n",
    "statSchedule1819 = pd.read_csv('./gameDataBySeason/NHL20182019.csv')\n",
    "statSchedule1920 = pd.read_csv('./gameDataBySeason/NHL20192020.csv')\n",
    "statSchedule2021 = pd.read_csv('./gameDataBySeason/NHL20202021.csv')"
   ]
  },
  {
   "cell_type": "code",
   "execution_count": 5,
   "id": "eafd7efa",
   "metadata": {},
   "outputs": [
    {
     "data": {
      "text/html": [
       "<div>\n",
       "<style scoped>\n",
       "    .dataframe tbody tr th:only-of-type {\n",
       "        vertical-align: middle;\n",
       "    }\n",
       "\n",
       "    .dataframe tbody tr th {\n",
       "        vertical-align: top;\n",
       "    }\n",
       "\n",
       "    .dataframe thead th {\n",
       "        text-align: right;\n",
       "    }\n",
       "</style>\n",
       "<table border=\"1\" class=\"dataframe\">\n",
       "  <thead>\n",
       "    <tr style=\"text-align: right;\">\n",
       "      <th></th>\n",
       "      <th>id</th>\n",
       "      <th>homeTeam</th>\n",
       "      <th>awayTeam</th>\n",
       "      <th>homeGoals</th>\n",
       "      <th>homePIM</th>\n",
       "      <th>homeShots</th>\n",
       "      <th>homePP%</th>\n",
       "      <th>homePPG</th>\n",
       "      <th>homePowerPlays</th>\n",
       "      <th>homeFaceoff%</th>\n",
       "      <th>...</th>\n",
       "      <th>awayShortHandedSaves</th>\n",
       "      <th>awayEvenStrengthSaves</th>\n",
       "      <th>awayShortHandedSA</th>\n",
       "      <th>awayEvenStrengthSA</th>\n",
       "      <th>awayPPSA</th>\n",
       "      <th>awaySavePercentage</th>\n",
       "      <th>awayPPSavePercentage</th>\n",
       "      <th>awayEvenStrengthSavePercentage</th>\n",
       "      <th>awayShortHandedSavePercentage</th>\n",
       "      <th>OT</th>\n",
       "    </tr>\n",
       "  </thead>\n",
       "  <tbody>\n",
       "    <tr>\n",
       "      <th>0</th>\n",
       "      <td>2015020001</td>\n",
       "      <td>Toronto Maple Leafs</td>\n",
       "      <td>Montreal Canadians</td>\n",
       "      <td>1</td>\n",
       "      <td>4</td>\n",
       "      <td>37</td>\n",
       "      <td>33.3</td>\n",
       "      <td>1.0</td>\n",
       "      <td>3.0</td>\n",
       "      <td>53.1</td>\n",
       "      <td>...</td>\n",
       "      <td>0</td>\n",
       "      <td>33</td>\n",
       "      <td>0</td>\n",
       "      <td>33</td>\n",
       "      <td>4</td>\n",
       "      <td>0.972973</td>\n",
       "      <td>1.0</td>\n",
       "      <td>1.000000</td>\n",
       "      <td>0.75</td>\n",
       "      <td>False</td>\n",
       "    </tr>\n",
       "    <tr>\n",
       "      <th>1</th>\n",
       "      <td>2015020002</td>\n",
       "      <td>Chicago Blackhawks</td>\n",
       "      <td>New York Rangers</td>\n",
       "      <td>2</td>\n",
       "      <td>2</td>\n",
       "      <td>34</td>\n",
       "      <td>0.0</td>\n",
       "      <td>0.0</td>\n",
       "      <td>1.0</td>\n",
       "      <td>52.6</td>\n",
       "      <td>...</td>\n",
       "      <td>0</td>\n",
       "      <td>29</td>\n",
       "      <td>0</td>\n",
       "      <td>31</td>\n",
       "      <td>3</td>\n",
       "      <td>0.941176</td>\n",
       "      <td>1.0</td>\n",
       "      <td>0.935484</td>\n",
       "      <td>1.00</td>\n",
       "      <td>False</td>\n",
       "    </tr>\n",
       "    <tr>\n",
       "      <th>2</th>\n",
       "      <td>2015020003</td>\n",
       "      <td>Calgary Flames</td>\n",
       "      <td>Vancouver Canucks</td>\n",
       "      <td>1</td>\n",
       "      <td>38</td>\n",
       "      <td>30</td>\n",
       "      <td>0.0</td>\n",
       "      <td>0.0</td>\n",
       "      <td>2.0</td>\n",
       "      <td>52.2</td>\n",
       "      <td>...</td>\n",
       "      <td>0</td>\n",
       "      <td>27</td>\n",
       "      <td>0</td>\n",
       "      <td>28</td>\n",
       "      <td>2</td>\n",
       "      <td>0.966667</td>\n",
       "      <td>1.0</td>\n",
       "      <td>0.964286</td>\n",
       "      <td>1.00</td>\n",
       "      <td>False</td>\n",
       "    </tr>\n",
       "    <tr>\n",
       "      <th>3</th>\n",
       "      <td>2015020004</td>\n",
       "      <td>Los Angeles Kings</td>\n",
       "      <td>San Jose Sharks</td>\n",
       "      <td>1</td>\n",
       "      <td>36</td>\n",
       "      <td>20</td>\n",
       "      <td>0.0</td>\n",
       "      <td>0.0</td>\n",
       "      <td>6.0</td>\n",
       "      <td>51.4</td>\n",
       "      <td>...</td>\n",
       "      <td>2</td>\n",
       "      <td>11</td>\n",
       "      <td>2</td>\n",
       "      <td>12</td>\n",
       "      <td>6</td>\n",
       "      <td>0.950000</td>\n",
       "      <td>1.0</td>\n",
       "      <td>0.916667</td>\n",
       "      <td>1.00</td>\n",
       "      <td>False</td>\n",
       "    </tr>\n",
       "    <tr>\n",
       "      <th>4</th>\n",
       "      <td>2015020005</td>\n",
       "      <td>Boston Bruins</td>\n",
       "      <td>Winnipeg Jets</td>\n",
       "      <td>2</td>\n",
       "      <td>2</td>\n",
       "      <td>31</td>\n",
       "      <td>0.0</td>\n",
       "      <td>0.0</td>\n",
       "      <td>2.0</td>\n",
       "      <td>49.2</td>\n",
       "      <td>...</td>\n",
       "      <td>0</td>\n",
       "      <td>23</td>\n",
       "      <td>0</td>\n",
       "      <td>25</td>\n",
       "      <td>6</td>\n",
       "      <td>0.935484</td>\n",
       "      <td>1.0</td>\n",
       "      <td>0.920000</td>\n",
       "      <td>1.00</td>\n",
       "      <td>False</td>\n",
       "    </tr>\n",
       "  </tbody>\n",
       "</table>\n",
       "<p>5 rows × 48 columns</p>\n",
       "</div>"
      ],
      "text/plain": [
       "           id             homeTeam            awayTeam  homeGoals  homePIM  \\\n",
       "0  2015020001  Toronto Maple Leafs  Montreal Canadians          1        4   \n",
       "1  2015020002   Chicago Blackhawks    New York Rangers          2        2   \n",
       "2  2015020003       Calgary Flames   Vancouver Canucks          1       38   \n",
       "3  2015020004    Los Angeles Kings     San Jose Sharks          1       36   \n",
       "4  2015020005        Boston Bruins       Winnipeg Jets          2        2   \n",
       "\n",
       "   homeShots  homePP%  homePPG  homePowerPlays  homeFaceoff%  ...  \\\n",
       "0         37     33.3      1.0             3.0          53.1  ...   \n",
       "1         34      0.0      0.0             1.0          52.6  ...   \n",
       "2         30      0.0      0.0             2.0          52.2  ...   \n",
       "3         20      0.0      0.0             6.0          51.4  ...   \n",
       "4         31      0.0      0.0             2.0          49.2  ...   \n",
       "\n",
       "   awayShortHandedSaves  awayEvenStrengthSaves  awayShortHandedSA  \\\n",
       "0                     0                     33                  0   \n",
       "1                     0                     29                  0   \n",
       "2                     0                     27                  0   \n",
       "3                     2                     11                  2   \n",
       "4                     0                     23                  0   \n",
       "\n",
       "   awayEvenStrengthSA  awayPPSA  awaySavePercentage  awayPPSavePercentage  \\\n",
       "0                  33         4            0.972973                   1.0   \n",
       "1                  31         3            0.941176                   1.0   \n",
       "2                  28         2            0.966667                   1.0   \n",
       "3                  12         6            0.950000                   1.0   \n",
       "4                  25         6            0.935484                   1.0   \n",
       "\n",
       "   awayEvenStrengthSavePercentage  awayShortHandedSavePercentage     OT  \n",
       "0                        1.000000                           0.75  False  \n",
       "1                        0.935484                           1.00  False  \n",
       "2                        0.964286                           1.00  False  \n",
       "3                        0.916667                           1.00  False  \n",
       "4                        0.920000                           1.00  False  \n",
       "\n",
       "[5 rows x 48 columns]"
      ]
     },
     "execution_count": 5,
     "metadata": {},
     "output_type": "execute_result"
    }
   ],
   "source": [
    "statSchedule1516.head()"
   ]
  },
  {
   "cell_type": "code",
   "execution_count": 6,
   "id": "53f42f39",
   "metadata": {},
   "outputs": [],
   "source": [
    "def initializeEmptyTeamWinCount():\n",
    "    teamsData = requests.get('https://statsapi.web.nhl.com/api/v1/teams')\n",
    "    teamsData = json.loads(teamsData.text)\n",
    "    teamsData = teamsData[\"teams\"]\n",
    "\n",
    "    teamsDict = dict()\n",
    "\n",
    "    for team in teamsData:\n",
    "        # french accents cause issues with the csv file so changing the name to english\n",
    "        if team['id'] == 8:\n",
    "            teamsDict['Montreal Canadians'] = {'homeWins': 0, 'awayWins': 0, 'homeGamesPlayed': 0, 'awayGamesPlayed': 0}\n",
    "        else:\n",
    "            teamsDict[team['name']] = {'homeWins': 0, 'awayWins': 0, 'homeGamesPlayed': 0, 'awayGamesPlayed': 0}\n",
    "            \n",
    "    return teamsDict"
   ]
  },
  {
   "cell_type": "code",
   "execution_count": 7,
   "id": "a5407e83",
   "metadata": {},
   "outputs": [],
   "source": [
    "def countHomeAndAwayWins(schedule):\n",
    "    \n",
    "    winCountList = initializeEmptyTeamWinCount()\n",
    "    \n",
    "    for index, row in schedule.iterrows():\n",
    "        homeTeam = row['homeTeam']\n",
    "        awayTeam = row['awayTeam']\n",
    "        homeGoals = row['homeGoals']\n",
    "        awayGoals = row['awayGoals']\n",
    "        \n",
    "        if homeGoals > awayGoals:\n",
    "            winCountList[homeTeam]['homeWins'] += 1\n",
    "        else:\n",
    "            winCountList[awayTeam]['awayWins'] += 1\n",
    "            \n",
    "        winCountList[homeTeam]['homeGamesPlayed'] += 1\n",
    "        winCountList[awayTeam]['awayGamesPlayed'] += 1\n",
    "        \n",
    "    return winCountList"
   ]
  },
  {
   "cell_type": "code",
   "execution_count": 8,
   "id": "0920c54e",
   "metadata": {},
   "outputs": [
    {
     "name": "stdout",
     "output_type": "stream",
     "text": [
      "The average difference between home win percentage and away win percentage in the 2015-16 season: -3.7398373983739845%\n",
      "The average difference between home win percentage and away win percentage in the 2016-17 season: 3.4146341463414642%\n",
      "The average difference between home win percentage and away win percentage in the 2017-18 season: 2.281667977970103%\n",
      "The average difference between home win percentage and away win percentage in the 2018-19 season: 0.23603461841070097%\n",
      "The average difference between home win percentage and away win percentage in the 2019-20 season: 0.003798618599377117%\n",
      "The average difference between home win percentage and away win percentage in the 2020-21 season: -0.46082949308755666%\n"
     ]
    },
    {
     "data": {
      "text/plain": [
       "Ttest_1sampResult(statistic=-0.36982230599608534, pvalue=0.7141128581244283)"
      ]
     },
     "execution_count": 8,
     "metadata": {},
     "output_type": "execute_result"
    }
   ],
   "source": [
    "# fill in team records based on data from the csv files\n",
    "records1516 = countHomeAndAwayWins(statSchedule1516)\n",
    "records1617 = countHomeAndAwayWins(statSchedule1617)\n",
    "records1718 = countHomeAndAwayWins(statSchedule1718)\n",
    "records1819 = countHomeAndAwayWins(statSchedule1819)\n",
    "records1920 = countHomeAndAwayWins(statSchedule1920)\n",
    "records2021 = countHomeAndAwayWins(statSchedule2021)\n",
    "\n",
    "diffs1516 = []\n",
    "for team in records1516:\n",
    "    if records1516[team]['homeGamesPlayed'] != 0:\n",
    "        homeAwayWinPercentageDifferential = (records1516[team]['homeWins'] / records1516[team]['homeGamesPlayed']) - (records1516[team]['awayWins'] / records1516[team]['awayGamesPlayed'])\n",
    "        diffs1516.append(homeAwayWinPercentageDifferential)\n",
    "avgDiff1516 = numpy.mean(diffs1516) * 100\n",
    "\n",
    "diffs1617 = []\n",
    "for team in records1617:\n",
    "    if records1617[team]['homeGamesPlayed'] != 0:\n",
    "        homeAwayWinPercentageDifferential = (records1617[team]['homeWins'] / records1617[team]['homeGamesPlayed']) - (records1617[team]['awayWins'] / records1617[team]['awayGamesPlayed'])\n",
    "        diffs1617.append(homeAwayWinPercentageDifferential)\n",
    "avgDiff1617 = numpy.mean(diffs1617) * 100\n",
    "\n",
    "diffs1718 = []\n",
    "for team in records1718:\n",
    "    if records1718[team]['homeGamesPlayed'] != 0:\n",
    "        homeAwayWinPercentageDifferential = (records1718[team]['homeWins'] / records1718[team]['homeGamesPlayed']) - (records1718[team]['awayWins'] / records1718[team]['awayGamesPlayed'])\n",
    "        diffs1718.append(homeAwayWinPercentageDifferential)\n",
    "avgDiff1718 = numpy.mean(diffs1718) * 100\n",
    "\n",
    "diffs1819 = []\n",
    "for team in records1819:\n",
    "    if records1819[team]['homeGamesPlayed'] != 0:\n",
    "        homeAwayWinPercentageDifferential = (records1819[team]['homeWins'] / records1819[team]['homeGamesPlayed']) - (records1819[team]['awayWins'] / records1819[team]['awayGamesPlayed'])\n",
    "        diffs1819.append(homeAwayWinPercentageDifferential)\n",
    "avgDiff1819 = numpy.mean(diffs1819) * 100\n",
    "\n",
    "diffs1920 = []\n",
    "for team in records1920:\n",
    "    if records1920[team]['homeGamesPlayed'] != 0:\n",
    "        homeAwayWinPercentageDifferential = (records1920[team]['homeWins'] / records1920[team]['homeGamesPlayed']) - (records1920[team]['awayWins'] / records1920[team]['awayGamesPlayed'])\n",
    "        diffs1920.append(homeAwayWinPercentageDifferential)\n",
    "avgDiff1920 = numpy.mean(diffs1920) * 100\n",
    "\n",
    "diffs2021 = []\n",
    "for team in records2021:\n",
    "    if records2021[team]['homeGamesPlayed'] != 0:\n",
    "        homeAwayWinPercentageDifferential = (records2021[team]['homeWins'] / records2021[team]['homeGamesPlayed']) - (records2021[team]['awayWins'] / records2021[team]['awayGamesPlayed'])\n",
    "        diffs2021.append(homeAwayWinPercentageDifferential)\n",
    "avgDiff2021 = numpy.mean(diffs2021) * 100\n",
    "\n",
    "print('The average difference between home win percentage and away win percentage in the 2015-16 season: ' + str(avgDiff1516) + '%')\n",
    "print('The average difference between home win percentage and away win percentage in the 2016-17 season: ' + str(avgDiff1617) + '%')\n",
    "print('The average difference between home win percentage and away win percentage in the 2017-18 season: ' + str(avgDiff1718) + '%')\n",
    "print('The average difference between home win percentage and away win percentage in the 2018-19 season: ' + str(avgDiff1819) + '%')\n",
    "print('The average difference between home win percentage and away win percentage in the 2019-20 season: ' + str(avgDiff1920) + '%')\n",
    "print('The average difference between home win percentage and away win percentage in the 2020-21 season: ' + str(avgDiff2021) + '%')\n",
    "\n",
    "winPercentageDifferentials = diffs1516 + diffs1617\n",
    "winPercentageDifferentials += diffs1718\n",
    "winPercentageDifferentials += diffs1819\n",
    "winPercentageDifferentials += diffs1920\n",
    "winPercentageDifferentials = pd.Series(winPercentageDifferentials)\n",
    "\n",
    "#avgWinPercentageDifferentials = pd.Series([avgDiff1516, avgDiff1617, avgDiff1718, avgDiff1819, avgDiff1920, avgDiff2021])\n",
    "\n",
    "winPercentageDifferentials2021 = pd.Series(diffs2021)\n",
    "\n",
    "# test stat explained in the following markdown cell \n",
    "stats.ttest_1samp(winPercentageDifferentials2021, numpy.mean(winPercentageDifferentials))"
   ]
  },
  {
   "cell_type": "markdown",
   "id": "d69c6991",
   "metadata": {},
   "source": [
    "The test statistic tests whether the mean of the home and away win-percentage differentials for the 2020-2021 season is equal to the mean of the home and away win-percentage differentials from the 2015-2016 season to the 2019-2020 season. Since the test statistic was less than the p-value, we would reject the null hypothesis (the means are equal) and say that they are not equal. However, the p-value (0.714) is very large which means the evidence against the null hyptohesis is very weak. For this reason, we fail to reject the null hypothesis and say that the mean of the home and away win-percentage differentials for the 2020-2021 season is equal to the mean of the home and away win-percentage differentials from the 2015-2016 season to the 2019-2020 season."
   ]
  },
  {
   "cell_type": "code",
   "execution_count": 9,
   "id": "5cd09a42",
   "metadata": {},
   "outputs": [
    {
     "data": {
      "text/plain": [
       "count    153.000000\n",
       "mean       0.004471\n",
       "std        0.102660\n",
       "min       -0.292683\n",
       "25%       -0.048780\n",
       "50%        0.000000\n",
       "75%        0.073171\n",
       "max        0.268293\n",
       "dtype: float64"
      ]
     },
     "execution_count": 9,
     "metadata": {},
     "output_type": "execute_result"
    }
   ],
   "source": [
    "winPercentageDifferentials.describe()"
   ]
  },
  {
   "cell_type": "markdown",
   "id": "0987f233",
   "metadata": {},
   "source": [
    "The mean of the home and away win-percentage differentials from the 2015-2016 season to the 2019-2020 season was 0.4471% with a standard deviation of 10.266%. This number is slighty larger than zero which indicates a very slight home-rink advantage in the average NHL season."
   ]
  },
  {
   "cell_type": "markdown",
   "id": "cbc91e41",
   "metadata": {},
   "source": [
    "Since some American NHL teams did have a small number of fans in attendance for some of the 2020-2021 season, the experiment will be repeated comparing the win-percentage differentials of just the Canadian teams in the 2020-2021 seaoson to the win-percentage differentials of the previous 5 seasons."
   ]
  },
  {
   "cell_type": "code",
   "execution_count": 10,
   "id": "5b25581c",
   "metadata": {},
   "outputs": [
    {
     "name": "stdout",
     "output_type": "stream",
     "text": [
      "The average difference between home win percentage and away win percentage of Canadian teams in the 2020-21 season: 0.003798618599377117%\n"
     ]
    },
    {
     "data": {
      "text/plain": [
       "Ttest_1sampResult(statistic=-0.10304283179572762, pvalue=0.9212867195439313)"
      ]
     },
     "execution_count": 10,
     "metadata": {},
     "output_type": "execute_result"
    }
   ],
   "source": [
    "canadaDiffs2021 = []\n",
    "\n",
    "for team in records2021:\n",
    "    if team == 'Vancouver Canucks' or team == 'Edmonton Oilers' or team == 'Calgary Flames' or team == 'Winnipeg Jets' or team == 'Toronto Maple Leafs' or team == 'Ottawa Senators' or team == 'Montreal Canadians':\n",
    "        homeAwayWinPercentageDifferential = (records2021[team]['homeWins'] / records2021[team]['homeGamesPlayed']) - (records2021[team]['awayWins'] / records2021[team]['awayGamesPlayed'])\n",
    "        canadaDiffs2021.append(homeAwayWinPercentageDifferential)\n",
    "canadaAvgDiff2021 = numpy.mean(canadaDiffs2021) * 100\n",
    "print('The average difference between home win percentage and away win percentage of Canadian teams in the 2020-21 season: ' + str(avgDiff1920) + '%')\n",
    "\n",
    "canadaWinPercentageDifferentials2021 = pd.Series(canadaDiffs2021)\n",
    "stats.ttest_1samp(canadaWinPercentageDifferentials2021, numpy.mean(winPercentageDifferentials))"
   ]
  },
  {
   "cell_type": "markdown",
   "id": "f533c41f",
   "metadata": {},
   "source": [
    "Again, the p-value is too large to reject the null hypothesis (the means are equal), therefore we accept the null hypothesis and say that the mean home and away win-percentage differential from the 2015-2016 season to the 2019-2020 season is equal to the mean home and away win-percentage differential of the Canadian teams in the 2020-2021 season. Since the mean win-percentage differential was close to 0 in every season that was considered, this is not surprising. This leads us to the conclusion that fan attendance does not have any significant effect on an NHL team's ability to win hockey games."
   ]
  }
 ],
 "metadata": {
  "kernelspec": {
   "display_name": "Python 3 (ipykernel)",
   "language": "python",
   "name": "python3"
  },
  "language_info": {
   "codemirror_mode": {
    "name": "ipython",
    "version": 3
   },
   "file_extension": ".py",
   "mimetype": "text/x-python",
   "name": "python",
   "nbconvert_exporter": "python",
   "pygments_lexer": "ipython3",
   "version": "3.8.10"
  }
 },
 "nbformat": 4,
 "nbformat_minor": 5
}
